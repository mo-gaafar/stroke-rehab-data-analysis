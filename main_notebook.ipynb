{
 "cells": [
  {
   "cell_type": "markdown",
   "metadata": {},
   "source": [
    "# Action Plan\n",
    "\n",
    "- Download the data\n",
    "    - Place the dataset in data/stroke folder !!! (dont forget to do this)\n",
    "    - Load the data into a pandas dataframe?\n",
    "- Preprocess the signals\n",
    "    - Remove the noise\n",
    "    - Normalize the data\n",
    "- Feature extraction\n",
    "    - Extract features from the signals\n",
    "- Train the model\n",
    "    - Train the model using the extracted features\n",
    "- Evaluate the model\n",
    "    - Evaluate the model using the test data\n"
   ]
  },
  {
   "cell_type": "markdown",
   "metadata": {},
   "source": [
    "# Data Loading\n",
    "- Load the data into a pandas dataframe from matlab file"
   ]
  },
  {
   "cell_type": "code",
   "execution_count": 2,
   "metadata": {},
   "outputs": [],
   "source": [
    "# Load the data loadmat\n",
    "from scipy.io import loadmat\n",
    "\n",
    "# Load the data\n",
    "data_dict = {\n",
    "    \"Patient_1\" : {\n",
    "        \"Pre\":{\n",
    "            \"Train\": loadmat('data/stroke/P1_pre_training.mat'),\n",
    "            \"Test\": loadmat('data/stroke/P1_pre_test.mat')\n",
    "        },\n",
    "        \"Post\":{\n",
    "            \"Train\": loadmat('data/stroke/P1_post_training.mat'),\n",
    "            \"Test\": loadmat('data/stroke/P1_post_test.mat')\n",
    "        }\n",
    "    },\n",
    "    \"Patient_2\" : {\n",
    "        \"Pre\":{\n",
    "            \"Train\": loadmat('data/stroke/P2_pre_training.mat'),\n",
    "            \"Test\": loadmat('data/stroke/P2_pre_test.mat')\n",
    "        },\n",
    "        \"Post\":{\n",
    "            \"Train\": loadmat('data/stroke/P2_post_training.mat'),\n",
    "            \"Test\": loadmat('data/stroke/P2_post_test.mat')\n",
    "        }\n",
    "    },\n",
    "    \"Patient_3\" : {\n",
    "        \"Pre\":{\n",
    "            \"Train\": loadmat('data/stroke/P3_pre_training.mat'),\n",
    "            \"Test\": loadmat('data/stroke/P3_pre_test.mat')\n",
    "        },\n",
    "        \"Post\":{\n",
    "            \"Train\": loadmat('data/stroke/P3_post_training.mat'),\n",
    "            \"Test\": loadmat('data/stroke/P3_post_test.mat')\n",
    "        }\n",
    "    },\n",
    "}\n",
    "\n"
   ]
  },
  {
   "cell_type": "markdown",
   "metadata": {},
   "source": [
    "# Preprocessing\n"
   ]
  },
  {
   "cell_type": "code",
   "execution_count": 3,
   "metadata": {},
   "outputs": [
    {
     "name": "stdout",
     "output_type": "stream",
     "text": [
      "dict_keys(['__header__', '__version__', '__globals__', 'fs', 'trig', 'y'])\n",
      "F sampling rate:\n",
      "[[256]]\n",
      "EEG data shape (samples, channels):\n",
      "(271816, 16)\n",
      "Trigger data shape:\n",
      "(271816, 1)\n"
     ]
    },
    {
     "ename": "ImportError",
     "evalue": "attempted relative import with no known parent package",
     "output_type": "error",
     "traceback": [
      "\u001b[0;31m---------------------------------------------------------------------------\u001b[0m",
      "\u001b[0;31mImportError\u001b[0m                               Traceback (most recent call last)",
      "\u001b[1;32m/home/dickenstein/work/skola/disertace/trying_methods_data_manipulation/hackathon/stroke-rehab-data-analysis/main_notebook.ipynb Cell 5\u001b[0m line \u001b[0;36m2\n\u001b[1;32m     <a href='vscode-notebook-cell:/home/dickenstein/work/skola/disertace/trying_methods_data_manipulation/hackathon/stroke-rehab-data-analysis/main_notebook.ipynb#W4sZmlsZQ%3D%3D?line=15'>16</a>\u001b[0m \u001b[39mprint\u001b[39m(data_dict[\u001b[39m\"\u001b[39m\u001b[39mPatient_1\u001b[39m\u001b[39m\"\u001b[39m][\u001b[39m\"\u001b[39m\u001b[39mPre\u001b[39m\u001b[39m\"\u001b[39m][\u001b[39m\"\u001b[39m\u001b[39mTrain\u001b[39m\u001b[39m\"\u001b[39m][\u001b[39m\"\u001b[39m\u001b[39mtrig\u001b[39m\u001b[39m\"\u001b[39m]\u001b[39m.\u001b[39mshape)\n\u001b[1;32m     <a href='vscode-notebook-cell:/home/dickenstein/work/skola/disertace/trying_methods_data_manipulation/hackathon/stroke-rehab-data-analysis/main_notebook.ipynb#W4sZmlsZQ%3D%3D?line=18'>19</a>\u001b[0m \u001b[39m'''Separate epochs for left and right hand MI'''\u001b[39;00m\n\u001b[0;32m---> <a href='vscode-notebook-cell:/home/dickenstein/work/skola/disertace/trying_methods_data_manipulation/hackathon/stroke-rehab-data-analysis/main_notebook.ipynb#W4sZmlsZQ%3D%3D?line=19'>20</a>\u001b[0m \u001b[39mfrom\u001b[39;00m \u001b[39m.\u001b[39;00m\u001b[39mload_mne\u001b[39;00m \u001b[39mimport\u001b[39;00m mne_load_data\n\u001b[1;32m     <a href='vscode-notebook-cell:/home/dickenstein/work/skola/disertace/trying_methods_data_manipulation/hackathon/stroke-rehab-data-analysis/main_notebook.ipynb#W4sZmlsZQ%3D%3D?line=21'>22</a>\u001b[0m data \u001b[39m=\u001b[39m load_mne(data_dict[\u001b[39m\"\u001b[39m\u001b[39mPatient_1\u001b[39m\u001b[39m\"\u001b[39m][\u001b[39m\"\u001b[39m\u001b[39mPre\u001b[39m\u001b[39m\"\u001b[39m][\u001b[39m\"\u001b[39m\u001b[39mTrain\u001b[39m\u001b[39m\"\u001b[39m][\u001b[39m\"\u001b[39m\u001b[39my\u001b[39m\u001b[39m\"\u001b[39m], data_dict[\u001b[39m\"\u001b[39m\u001b[39mPatient_1\u001b[39m\u001b[39m\"\u001b[39m][\u001b[39m\"\u001b[39m\u001b[39mPre\u001b[39m\u001b[39m\"\u001b[39m][\u001b[39m\"\u001b[39m\u001b[39mTrain\u001b[39m\u001b[39m\"\u001b[39m][\u001b[39m\"\u001b[39m\u001b[39mfs\u001b[39m\u001b[39m\"\u001b[39m], data_dict[\u001b[39m\"\u001b[39m\u001b[39mPatient_1\u001b[39m\u001b[39m\"\u001b[39m][\u001b[39m\"\u001b[39m\u001b[39mPre\u001b[39m\u001b[39m\"\u001b[39m][\u001b[39m\"\u001b[39m\u001b[39mTrain\u001b[39m\u001b[39m\"\u001b[39m][\u001b[39m\"\u001b[39m\u001b[39mtrig\u001b[39m\u001b[39m\"\u001b[39m])\n\u001b[1;32m     <a href='vscode-notebook-cell:/home/dickenstein/work/skola/disertace/trying_methods_data_manipulation/hackathon/stroke-rehab-data-analysis/main_notebook.ipynb#W4sZmlsZQ%3D%3D?line=23'>24</a>\u001b[0m \u001b[39m# divide the eeg into epochs, each epoch is 8 seconds long (trigger is at 2 seconds, at 3.5 seconds )\u001b[39;00m\n\u001b[1;32m     <a href='vscode-notebook-cell:/home/dickenstein/work/skola/disertace/trying_methods_data_manipulation/hackathon/stroke-rehab-data-analysis/main_notebook.ipynb#W4sZmlsZQ%3D%3D?line=24'>25</a>\u001b[0m \u001b[39m# One session was composed by 240 MI repetitions on both hands, divided in 3 runs of 80 trials each.\u001b[39;00m\n",
      "\u001b[0;31mImportError\u001b[0m: attempted relative import with no known parent package"
     ]
    }
   ],
   "source": [
    "# Trying to know the content of the data\n",
    "\n",
    "\n",
    "\n",
    "print(data_dict[\"Patient_1\"][\"Pre\"][\"Train\"].keys())\n",
    "'''fs - sampling rate Hz\n",
    "y - EEG data (n_channels x n_samples)\n",
    "trig - trigger data (+1 left hand MI , -1 right hand MI)\n",
    "'''\n",
    "\n",
    "print(\"F sampling rate:\")\n",
    "print(data_dict[\"Patient_1\"][\"Pre\"][\"Train\"][\"fs\"])\n",
    "print(\"EEG data shape (samples, channels):\")\n",
    "print(data_dict[\"Patient_1\"][\"Pre\"][\"Train\"][\"y\"].shape)\n",
    "print(\"Trigger data shape:\")\n",
    "print(data_dict[\"Patient_1\"][\"Pre\"][\"Train\"][\"trig\"].shape)\n",
    "\n",
    "\n",
    "'''Separate epochs for left and right hand MI'''\n",
    "from .load_mne import mne_load_data\n",
    "\n",
    "data = load_mne(data_dict[\"Patient_1\"][\"Pre\"][\"Train\"][\"y\"], data_dict[\"Patient_1\"][\"Pre\"][\"Train\"][\"fs\"], data_dict[\"Patient_1\"][\"Pre\"][\"Train\"][\"trig\"])\n",
    "\n",
    "# divide the eeg into epochs, each epoch is 8 seconds long (trigger is at 2 seconds, at 3.5 seconds )\n",
    "# One session was composed by 240 MI repetitions on both hands, divided in 3 runs of 80 trials each.\n",
    "\n"
   ]
  },
  {
   "cell_type": "code",
   "execution_count": 71,
   "metadata": {},
   "outputs": [
    {
     "name": "stdout",
     "output_type": "stream",
     "text": [
      "(271816, 16)\n",
      "[[ 65838      0     -1]\n",
      " [ 68312      0     -1]\n",
      " [ 70768      0     -1]\n",
      " [ 73224      0     -1]\n",
      " [ 75688      0     -1]\n",
      " [ 78019      0      1]\n",
      " [ 80608      0     -1]\n",
      " [ 83032      0      1]\n",
      " [ 85534      0     -1]\n",
      " [ 88008      0      1]\n",
      " [ 90464      0     -1]\n",
      " [ 92912      0     -1]\n",
      " [ 95366      0     -1]\n",
      " [ 97832      0      1]\n",
      " [100288      0     -1]\n",
      " [102768      0     -1]\n",
      " [105198      0     -1]\n",
      " [107669      0     -1]\n",
      " [110120      0      1]\n",
      " [112592      0     -1]\n",
      " [115040      0      1]\n",
      " [117488      0      1]\n",
      " [119936      0      1]\n",
      " [122408      0     -1]\n",
      " [124848      0      1]\n",
      " [127296      0      1]\n",
      " [129748      0     -1]\n",
      " [132212      0     -1]\n",
      " [134696      0      1]\n",
      " [137160      0     -1]\n",
      " [139624      0     -1]\n",
      " [142416      0     -1]\n",
      " [144851      0      1]\n",
      " [147336      0     -1]\n",
      " [149784      0      1]\n",
      " [152264      0      1]\n",
      " [154728      0     -1]\n",
      " [157184      0      1]\n",
      " [159664      0      1]\n",
      " [162089      0      1]\n",
      " [172680      0     -1]\n",
      " [175128      0     -1]\n",
      " [177576      0      1]\n",
      " [180035      0      1]\n",
      " [182509      0      1]\n",
      " [185120      0     -1]\n",
      " [187576      0      1]\n",
      " [190032      0     -1]\n",
      " [192488      0     -1]\n",
      " [194928      0      1]\n",
      " [197392      0     -1]\n",
      " [199840      0      1]\n",
      " [202312      0      1]\n",
      " [204751      0     -1]\n",
      " [207544      0     -1]\n",
      " [210000      0      1]\n",
      " [212443      0     -1]\n",
      " [214920      0      1]\n",
      " [217392      0      1]\n",
      " [219840      0      1]\n",
      " [222312      0     -1]\n",
      " [224736      0      1]\n",
      " [227208      0      1]\n",
      " [229936      0     -1]\n",
      " [232392      0      1]\n",
      " [234848      0      1]\n",
      " [237274      0      1]\n",
      " [239752      0      1]\n",
      " [242216      0      1]\n",
      " [244656      0      1]\n",
      " [247106      0      1]\n",
      " [249592      0     -1]\n",
      " [252064      0      1]\n",
      " [254512      0      1]\n",
      " [256976      0      1]\n",
      " [259896      0     -1]\n",
      " [262356      0     -1]\n",
      " [264840      0     -1]\n",
      " [267288      0     -1]\n",
      " [269752      0     -1]]\n"
     ]
    },
    {
     "data": {
      "image/png": "[encoded data removed]",
      "text/plain": [
       "<Figure size 1000x500 with 1 Axes>"
      ]
     },
     "metadata": {},
     "output_type": "display_data"
    }
   ],
   "source": [
    "import numpy as np\n",
    "# plot eeg and triggers for the first 10000 samples\n",
    "import matplotlib.pyplot as plt\n",
    "\n",
    "eeg_trigs = data_dict[\"Patient_1\"][\"Pre\"][\"Train\"][\"trig\"][0, :]\n",
    "out_trigs = np.zeros_like(eeg_trigs)\n",
    "# find the triggers\n",
    "idx_array = []\n",
    "for i in range(len(eeg_trigs)):\n",
    "    if (eeg_trigs[i] != eeg_trigs[i-1]):\n",
    "        out_trigs.append(eeg_trigs[i])\n",
    "        idx_array.append(i)\n",
    "\n",
    "    \n",
    "plt.figure(figsize=(10, 5))\n",
    "start_samples = 256 * 60 * 5\n",
    "end_samples = 256 * 60 * 5 + start_samples\n",
    "data = data_dict[\"Patient_1\"][\"Pre\"][\"Train\"][\"y\"]\n",
    "triggers = data_dict[\"Patient_1\"][\"Pre\"][\"Train\"][\"trig\"]\n",
    "\n",
    "print(data.shape)\n",
    "time_axis = np.arange(start_samples, end_samples) / data_dict[\"Patient_1\"][\"Pre\"][\"Train\"][\"fs\"][0][0]\n",
    "# plt.plot(time_axis, data[start_samples:end_samples, 0], label='Channel 1')\n",
    "# plt.plot(time_axis, data[start_samples:end_samples, 1], label='Channel 2')\n",
    "\n",
    "plt.plot(time_axis, triggers[start_samples:end_samples], label='Trigger')\n",
    "\n",
    "triggerd = np.zeros_like(triggers, dtype=int)\n",
    "triggerd[1:] = ((triggers[1:]-triggers[:-1])!=0) * (triggers[1:]!=0)\n",
    "triggerd[triggerd!=0] = triggers[triggerd!=0]\n",
    "events = np.column_stack((np.argwhere(triggerd)[:,0], np.zeros(sum(triggerd!=0), dtype=int),triggerd[triggerd!=0]))\n",
    "print(events)\n",
    "\n",
    "plt.plot(time_axis, triggerd[start_samples:end_samples], label='Triggerdiff')\n",
    "\n",
    "plt.xlabel('Seconds')\n",
    "plt.legend()\n",
    "\n",
    "plt.show()"
   ]
  },
  {
   "cell_type": "markdown",
   "metadata": {},
   "source": [
    "# Data Loading\n",
    "- Load the data into a pandas dataframe from matlab file"
   ]
  },
  {
   "cell_type": "markdown",
   "metadata": {},
   "source": [
    "# Preprocessing\n"
   ]
  }
 ],
 "metadata": {
  "kernelspec": {
   "display_name": ".venv",
   "language": "python",
   "name": "python3"
  },
  "language_info": {
   "codemirror_mode": {
    "name": "ipython",
    "version": 3
   },
   "file_extension": ".py",
   "mimetype": "text/x-python",
   "name": "python",
   "nbconvert_exporter": "python",
   "pygments_lexer": "ipython3",
   "version": "3.9.6"
  }
 },
 "nbformat": 4,
 "nbformat_minor": 2
}
