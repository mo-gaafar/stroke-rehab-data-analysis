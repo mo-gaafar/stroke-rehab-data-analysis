{
 "cells": [
  {
   "cell_type": "code",
   "execution_count": null,
   "metadata": {},
   "outputs": [],
   "source": [
    "from IPython.lib.deepreload import reload\n",
    "%load_ext autoreload\n",
    "%autoreload 2\n",
    "import scripts.load_project as load_project\n",
    "import numpy as np\n",
    "\n",
    "data = load_project.load_project()"
   ]
  },
  {
   "cell_type": "markdown",
   "metadata": {},
   "source": [
    "# Just prepare some X_train/test y_train/test pairs to play with\n"
   ]
  },
  {
   "cell_type": "code",
   "execution_count": null,
   "metadata": {},
   "outputs": [],
   "source": [
    "condition = \"Pre\"\n",
    "left = data[\"Patient_2\"][condition]['Train'][\"left\"].get_data()\n",
    "right = data[\"Patient_2\"][condition]['Train'][\"right\"].get_data()\n",
    "X_train = np.concatenate([left,right] ,axis=0)\n",
    "y_train = np.array(([0]*left.shape[0])+([1]*right.shape[0]))\n",
    "left = data[\"Patient_2\"][condition]['Test'][\"left\"].get_data()\n",
    "right = data[\"Patient_2\"][condition]['Test'][\"right\"].get_data()\n",
    "X_test = np.concatenate([left,right] ,axis=0)\n",
    "y_test = np.array(([0]*left.shape[0])+([1]*right.shape[0]))"
   ]
  },
  {
   "cell_type": "markdown",
   "metadata": {},
   "source": [
    "## SilverBullet"
   ]
  },
  {
   "cell_type": "code",
   "execution_count": null,
   "metadata": {},
   "outputs": [],
   "source": [
    "from scripts.sb import train_sb\n",
    "train_sb(X_train,y_train, X_test,  y_test)"
   ]
  },
  {
   "cell_type": "markdown",
   "metadata": {},
   "source": [
    "# CNN 1"
   ]
  },
  {
   "cell_type": "code",
   "execution_count": null,
   "metadata": {},
   "outputs": [],
   "source": [
    "# import scripts.cnn1 as cnn1\n",
    "# import scripts.spectro as spe\n",
    "# cnn1.train(spe.cwt(X_train),y_train, spe.cwt(X_test), y_test)"
   ]
  },
  {
   "cell_type": "code",
   "execution_count": null,
   "metadata": {},
   "outputs": [],
   "source": [
    "# PCA\n",
    "\n",
    "from sklearn.decomposition import PCA\n",
    "\n",
    "pca = PCA(n_components=16)\n",
    "pca.fit(X_train.reshape(X_train.shape[0],-1))\n",
    "pca.explained_variance_ratio_\n",
    "pca.transform(X_train.reshape(X_train.shape[0],-1))"
   ]
  }
 ],
 "metadata": {
  "kernelspec": {
   "display_name": "venv",
   "language": "python",
   "name": "python3"
  },
  "language_info": {
   "codemirror_mode": {
    "name": "ipython",
    "version": 3
   },
   "file_extension": ".py",
   "mimetype": "text/x-python",
   "name": "python",
   "nbconvert_exporter": "python",
   "pygments_lexer": "ipython3",
   "version": "3.11.9"
  }
 },
 "nbformat": 4,
 "nbformat_minor": 2
}
