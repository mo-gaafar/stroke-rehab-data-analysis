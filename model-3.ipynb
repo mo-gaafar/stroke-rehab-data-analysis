{
 "cells": [
  {
   "cell_type": "code",
   "execution_count": 3,
   "metadata": {},
   "outputs": [],
   "source": [
    "def read_dataset(feature_left,feature_right):\n",
    "       \n",
    "       # Concatenate left and right features\n",
    "       data_array = np.concatenate((feature_left, feature_right), axis=0)\n",
    "\n",
    "       # Create labels: 1 for left, 0 for right\n",
    "       labels_array = np.concatenate((np.ones(feature_left.shape[0]),\n",
    "                            np.zeros(feature_right.shape[0])))\n",
    "\n",
    "\n",
    "       labels_one_hot = tf.keras.utils.to_categorical(labels_array, num_classes=labels_array[0].shape)\n",
    "\n",
    "       x=data_array\n",
    "       y=labels_one_hot\n",
    "\n",
    "\n",
    "\n",
    "       # Assuming 'X' is your feature dataset and 'y' is your target dataset\n",
    "       x_train, x_temp, y_train, y_temp = train_test_split(x, y, test_size=0.2, random_state=42)\n",
    "\n",
    "       # Splitting the temporary set into validation and test sets\n",
    "       x_val, x_test, y_val, y_test = train_test_split(x_temp, y_temp, test_size=0.5, random_state=42)\n",
    "       data={\n",
    "              'x_train':x_train,\n",
    "              'y_train':y_train,\n",
    "              'x_val':x_val,\n",
    "              'y_val':y_val,\n",
    "              'x_test':x_test,\n",
    "              'y_test':y_test,\n",
    "              'x':x,\n",
    "              'y':y,\n",
    "\n",
    "       }\n",
    "\n",
    "       return data"
   ]
  },
  {
   "cell_type": "code",
   "execution_count": null,
   "metadata": {},
   "outputs": [],
   "source": []
  }
 ],
 "metadata": {
  "kernelspec": {
   "display_name": ".venv",
   "language": "python",
   "name": "python3"
  },
  "language_info": {
   "codemirror_mode": {
    "name": "ipython",
    "version": 3
   },
   "file_extension": ".py",
   "mimetype": "text/x-python",
   "name": "python",
   "nbconvert_exporter": "python",
   "pygments_lexer": "ipython3",
   "version": "3.9.6"
  }
 },
 "nbformat": 4,
 "nbformat_minor": 2
}
