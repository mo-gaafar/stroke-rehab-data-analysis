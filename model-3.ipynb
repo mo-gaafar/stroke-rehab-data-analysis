{
 "cells": [
  {
   "cell_type": "code",
   "execution_count": null,
   "metadata": {},
   "outputs": [],
   "source": [
    "import os\n",
    "import numpy as np\n",
    "import tensorflow as tf\n",
    "import sys\n",
    "from sklearn.model_selection import train_test_split\n",
    "import mne\n",
    "import numpy as np\n",
    "from ssqueezepy import cwt\n",
    "from sklearn.preprocessing import MinMaxScaler\n",
    "from sklearn.preprocessing import StandardScaler\n",
    "import pywt\n",
    "import matplotlib.pyplot as plt"
   ]
  },
  {
   "cell_type": "code",
   "execution_count": null,
   "metadata": {},
   "outputs": [],
   "source": [
    "def read_dataset(feature_left,feature_right):\n",
    "       \n",
    "       # Concatenate left and right features\n",
    "       data_array = np.concatenate((feature_left, feature_right), axis=0)\n",
    "\n",
    "       # Create labels: 1 for left, 0 for right\n",
    "       labels_array = np.concatenate((np.ones(feature_left.shape[0]),\n",
    "                            np.zeros(feature_right.shape[0])))\n",
    "\n",
    "\n",
    "       labels_one_hot = tf.keras.utils.to_categorical(labels_array, num_classes=labels_array[0].shape)\n",
    "\n",
    "       x=data_array\n",
    "       y=labels_one_hot\n",
    "\n",
    "\n",
    "\n",
    "       # Assuming 'X' is your feature dataset and 'y' is your target dataset\n",
    "       x_train, x_temp, y_train, y_temp = train_test_split(x, y, test_size=0.2, random_state=42)\n",
    "\n",
    "       # Splitting the temporary set into validation and test sets\n",
    "       x_val, x_test, y_val, y_test = train_test_split(x_temp, y_temp, test_size=0.5, random_state=42)\n",
    "       data={\n",
    "              'x_train':x_train,\n",
    "              'y_train':y_train,\n",
    "              'x_val':x_val,\n",
    "              'y_val':y_val,\n",
    "              'x_test':x_test,\n",
    "              'y_test':y_test,\n",
    "              'x':x,\n",
    "              'y':y,\n",
    "\n",
    "       }\n",
    "\n",
    "       return data"
   ]
  },
  {
   "cell_type": "code",
   "execution_count": null,
   "metadata": {},
   "outputs": [],
   "source": [
    "# Importing the MODEL class from run_model.py\n",
    "#sys.path.append(r'C:\\Users\\Administrator\\Desktop\\alipour\\gumpy-deeplearning-master\\dataset')\n",
    "from run_model import MODEL\n",
    "\n",
    "# Creating an instance of the MODEL class\n",
    "model_instance = MODEL()\n",
    "\n",
    "# Path to the directory containing models\n",
    "model_path = r'C:\\Users\\Administrator\\Desktop\\alipour\\gumpy-deeplearning-master\\models'\n",
    "model_name='cnn_stft'\n",
    "model_function='CNN_STFT'\n",
    "num_sub=0\n",
    "num_epoch=100\n",
    "dropout=0.4\n",
    "# Create an empty list to store trained models\n",
    "model_file={\n",
    "    'path':model_path,\n",
    "    'name':model_name,\n",
    "    'function':model_function,\n",
    "    'num_sub':num_sub,\n",
    "    'data':all_dataset,\n",
    "    'num_epoch':num_epoch,\n",
    "    'dropout':dropout\n",
    "}\n",
    "# Assuming 9 datasets in all_dataset\n",
    "\n",
    "#model ,history = model_instance.train_model(model_path,model_name,model_function,all_dataset,num_epoch=num_epoch,num_sub=num_sub)\n",
    "model ,history = model_instance.train_model(model_file)"
   ]
  }
 ],
 "metadata": {
  "kernelspec": {
   "display_name": ".venv",
   "language": "python",
   "name": "python3"
  },
  "language_info": {
   "codemirror_mode": {
    "name": "ipython",
    "version": 3
   },
   "file_extension": ".py",
   "mimetype": "text/x-python",
   "name": "python",
   "nbconvert_exporter": "python",
   "pygments_lexer": "ipython3",
   "version": "3.9.6"
  }
 },
 "nbformat": 4,
 "nbformat_minor": 2
}
