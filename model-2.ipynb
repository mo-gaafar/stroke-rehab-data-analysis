{
 "cells": [
  {
   "cell_type": "code",
   "execution_count": null,
   "metadata": {},
   "outputs": [],
   "source": [
    "import scripts.load_project as load_project\n",
    "import numpy as np\n",
    "\n",
    "data = load_project.load_project()"
   ]
  },
  {
   "cell_type": "markdown",
   "metadata": {},
   "source": [
    "# Just prepare some X_train/test y_train/test pairs to play with\n"
   ]
  },
  {
   "cell_type": "code",
   "execution_count": null,
   "metadata": {},
   "outputs": [],
   "source": [
    "left = data[\"Patient_1\"]['Post']['Train'][\"left\"].get_data()\n",
    "right = data[\"Patient_1\"]['Post']['Train'][\"right\"].get_data()\n",
    "X_train = np.concatenate([left,right] ,axis=0)\n",
    "y_train = np.array(([0]*left.shape[0])+([1]*right.shape[0]))\n",
    "left = data[\"Patient_1\"]['Post']['Test'][\"left\"].get_data()\n",
    "right = data[\"Patient_1\"]['Post']['Test'][\"right\"].get_data()\n",
    "X_test = np.concatenate([left,right] ,axis=0)\n",
    "y_test = np.array(([0]*left.shape[0])+([1]*right.shape[0]))"
   ]
  },
  {
   "cell_type": "markdown",
   "metadata": {},
   "source": [
    "# CNN 1"
   ]
  },
  {
   "cell_type": "code",
   "execution_count": null,
   "metadata": {},
   "outputs": [],
   "source": [
    "import scripts.cnn1 as cnn1\n",
    "import scripts.spectro as spe\n",
    "cnn1.train(spe.cwt(X_train),y_train, spe.cwt(X_test), y_test)"
   ]
  }
 ],
 "metadata": {
  "kernelspec": {
   "display_name": "venv",
   "language": "python",
   "name": "python3"
  },
  "language_info": {
   "codemirror_mode": {
    "name": "ipython",
    "version": 3
   },
   "file_extension": ".py",
   "mimetype": "text/x-python",
   "name": "python",
   "nbconvert_exporter": "python",
   "pygments_lexer": "ipython3",
   "version": "3.11.9"
  }
 },
 "nbformat": 4,
 "nbformat_minor": 2
}
