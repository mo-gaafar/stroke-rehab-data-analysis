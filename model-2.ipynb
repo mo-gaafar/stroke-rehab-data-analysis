{
 "cells": [
  {
   "cell_type": "code",
   "execution_count": 1,
   "metadata": {},
   "outputs": [
    {
     "name": "stdout",
     "output_type": "stream",
     "text": [
      "Patient: Patient_1, Session: Pre, Task: Train\n",
      "EEG data shape (channels, samples): (16, 271816)\n",
      "Trigger data shape: (271816, 1)\n",
      "Creating RawArray with float64 data, n_channels=16, n_times=271816\n",
      "    Range : 0 ... 271815 =      0.000 ...  1061.777 secs\n",
      "Ready.\n",
      "Creating epochs...\n",
      "(80, 3)\n",
      "Not setting metadata\n",
      "80 matching events found\n",
      "Applying baseline correction (mode: mean)\n",
      "0 projection items activated\n",
      "Using data from preloaded Raw for 80 events and 1665 original time points ...\n",
      "0 bad epochs dropped\n",
      "Left hand MI epochs: (40, 16, 1665)\n",
      "Right hand MI epochs: (40, 16, 1665)\n",
      "Overwriting existing file.\n",
      "Overwriting existing file.\n",
      "Overwriting existing file.\n",
      "Overwriting existing file.\n",
      "\n",
      "\n",
      "Patient: Patient_1, Session: Pre, Task: Test\n",
      "EEG data shape (channels, samples): (16, 204560)\n",
      "Trigger data shape: (204560, 1)\n",
      "Creating RawArray with float64 data, n_channels=16, n_times=204560\n",
      "    Range : 0 ... 204559 =      0.000 ...   799.059 secs\n",
      "Ready.\n"
     ]
    },
    {
     "name": "stderr",
     "output_type": "stream",
     "text": [
      "/Users/mohamed/Documents/GitHub/stroke-rehab-data-analysis/scripts/load_mne.py:89: FutureWarning: The current default of copy=False will change to copy=True in 1.7. Set the value of copy explicitly to avoid this warning\n",
      "  print(f\"Left hand MI epochs: {left_epochs.get_data().shape}\")\n",
      "/Users/mohamed/Documents/GitHub/stroke-rehab-data-analysis/scripts/load_mne.py:90: FutureWarning: The current default of copy=False will change to copy=True in 1.7. Set the value of copy explicitly to avoid this warning\n",
      "  print(f\"Right hand MI epochs: {right_epochs.get_data().shape}\")\n"
     ]
    },
    {
     "name": "stdout",
     "output_type": "stream",
     "text": [
      "Creating epochs...\n",
      "(80, 3)\n",
      "Not setting metadata\n",
      "80 matching events found\n",
      "Applying baseline correction (mode: mean)\n",
      "0 projection items activated\n",
      "Using data from preloaded Raw for 80 events and 1665 original time points ...\n",
      "0 bad epochs dropped\n",
      "Left hand MI epochs: (40, 16, 1665)\n",
      "Right hand MI epochs: (40, 16, 1665)\n",
      "Overwriting existing file.\n",
      "Overwriting existing file.\n",
      "Overwriting existing file.\n",
      "Overwriting existing file.\n",
      "\n",
      "\n",
      "Patient: Patient_1, Session: Post, Task: Train\n",
      "EEG data shape (channels, samples): (16, 197343)\n",
      "Trigger data shape: (197343, 1)\n",
      "Creating RawArray with float64 data, n_channels=16, n_times=197343\n",
      "    Range : 0 ... 197342 =      0.000 ...   770.867 secs\n",
      "Ready.\n"
     ]
    },
    {
     "name": "stderr",
     "output_type": "stream",
     "text": [
      "/Users/mohamed/Documents/GitHub/stroke-rehab-data-analysis/scripts/load_mne.py:89: FutureWarning: The current default of copy=False will change to copy=True in 1.7. Set the value of copy explicitly to avoid this warning\n",
      "  print(f\"Left hand MI epochs: {left_epochs.get_data().shape}\")\n",
      "/Users/mohamed/Documents/GitHub/stroke-rehab-data-analysis/scripts/load_mne.py:90: FutureWarning: The current default of copy=False will change to copy=True in 1.7. Set the value of copy explicitly to avoid this warning\n",
      "  print(f\"Right hand MI epochs: {right_epochs.get_data().shape}\")\n"
     ]
    },
    {
     "name": "stdout",
     "output_type": "stream",
     "text": [
      "Creating epochs...\n",
      "(80, 3)\n",
      "Not setting metadata\n",
      "80 matching events found\n",
      "Applying baseline correction (mode: mean)\n",
      "0 projection items activated\n",
      "Using data from preloaded Raw for 80 events and 1665 original time points ...\n",
      "0 bad epochs dropped\n",
      "Left hand MI epochs: (40, 16, 1665)\n",
      "Right hand MI epochs: (40, 16, 1665)\n",
      "Overwriting existing file.\n",
      "Overwriting existing file.\n",
      "Overwriting existing file.\n",
      "Overwriting existing file.\n",
      "\n",
      "\n",
      "Patient: Patient_1, Session: Post, Task: Test\n",
      "EEG data shape (channels, samples): (16, 194088)\n",
      "Trigger data shape: (194088, 1)\n",
      "Creating RawArray with float64 data, n_channels=16, n_times=194088\n",
      "    Range : 0 ... 194087 =      0.000 ...   758.152 secs\n",
      "Ready.\n",
      "Creating epochs...\n",
      "(80, 3)\n",
      "Not setting metadata\n",
      "80 matching events found\n",
      "Applying baseline correction (mode: mean)\n",
      "0 projection items activated\n",
      "Using data from preloaded Raw for 80 events and 1665 original time points ...\n"
     ]
    },
    {
     "name": "stderr",
     "output_type": "stream",
     "text": [
      "/Users/mohamed/Documents/GitHub/stroke-rehab-data-analysis/scripts/load_mne.py:89: FutureWarning: The current default of copy=False will change to copy=True in 1.7. Set the value of copy explicitly to avoid this warning\n",
      "  print(f\"Left hand MI epochs: {left_epochs.get_data().shape}\")\n",
      "/Users/mohamed/Documents/GitHub/stroke-rehab-data-analysis/scripts/load_mne.py:90: FutureWarning: The current default of copy=False will change to copy=True in 1.7. Set the value of copy explicitly to avoid this warning\n",
      "  print(f\"Right hand MI epochs: {right_epochs.get_data().shape}\")\n"
     ]
    },
    {
     "name": "stdout",
     "output_type": "stream",
     "text": [
      "0 bad epochs dropped\n",
      "Left hand MI epochs: (40, 16, 1665)\n",
      "Right hand MI epochs: (40, 16, 1665)\n",
      "Overwriting existing file.\n",
      "Overwriting existing file.\n",
      "Overwriting existing file.\n",
      "Overwriting existing file.\n",
      "\n",
      "\n",
      "Patient: Patient_2, Session: Pre, Task: Train\n",
      "EEG data shape (channels, samples): (16, 223112)\n",
      "Trigger data shape: (223112, 1)\n",
      "Creating RawArray with float64 data, n_channels=16, n_times=223112\n",
      "    Range : 0 ... 223111 =      0.000 ...   871.527 secs\n",
      "Ready.\n"
     ]
    },
    {
     "name": "stderr",
     "output_type": "stream",
     "text": [
      "/Users/mohamed/Documents/GitHub/stroke-rehab-data-analysis/scripts/load_mne.py:89: FutureWarning: The current default of copy=False will change to copy=True in 1.7. Set the value of copy explicitly to avoid this warning\n",
      "  print(f\"Left hand MI epochs: {left_epochs.get_data().shape}\")\n",
      "/Users/mohamed/Documents/GitHub/stroke-rehab-data-analysis/scripts/load_mne.py:90: FutureWarning: The current default of copy=False will change to copy=True in 1.7. Set the value of copy explicitly to avoid this warning\n",
      "  print(f\"Right hand MI epochs: {right_epochs.get_data().shape}\")\n"
     ]
    },
    {
     "name": "stdout",
     "output_type": "stream",
     "text": [
      "Creating epochs...\n",
      "(80, 3)\n",
      "Not setting metadata\n",
      "80 matching events found\n",
      "Applying baseline correction (mode: mean)\n",
      "0 projection items activated\n",
      "Using data from preloaded Raw for 80 events and 1665 original time points ...\n",
      "0 bad epochs dropped\n",
      "Left hand MI epochs: (40, 16, 1665)\n",
      "Right hand MI epochs: (40, 16, 1665)\n",
      "Overwriting existing file.\n",
      "Overwriting existing file.\n",
      "Overwriting existing file.\n",
      "Overwriting existing file.\n",
      "\n",
      "\n",
      "Patient: Patient_2, Session: Pre, Task: Test\n",
      "EEG data shape (channels, samples): (16, 199552)\n",
      "Trigger data shape: (199552, 1)\n",
      "Creating RawArray with float64 data, n_channels=16, n_times=199552\n",
      "    Range : 0 ... 199551 =      0.000 ...   779.496 secs\n",
      "Ready.\n"
     ]
    },
    {
     "name": "stderr",
     "output_type": "stream",
     "text": [
      "/Users/mohamed/Documents/GitHub/stroke-rehab-data-analysis/scripts/load_mne.py:89: FutureWarning: The current default of copy=False will change to copy=True in 1.7. Set the value of copy explicitly to avoid this warning\n",
      "  print(f\"Left hand MI epochs: {left_epochs.get_data().shape}\")\n",
      "/Users/mohamed/Documents/GitHub/stroke-rehab-data-analysis/scripts/load_mne.py:90: FutureWarning: The current default of copy=False will change to copy=True in 1.7. Set the value of copy explicitly to avoid this warning\n",
      "  print(f\"Right hand MI epochs: {right_epochs.get_data().shape}\")\n"
     ]
    },
    {
     "name": "stdout",
     "output_type": "stream",
     "text": [
      "Creating epochs...\n",
      "(80, 3)\n",
      "Not setting metadata\n",
      "80 matching events found\n",
      "Applying baseline correction (mode: mean)\n",
      "0 projection items activated\n",
      "Using data from preloaded Raw for 80 events and 1665 original time points ...\n",
      "0 bad epochs dropped\n",
      "Left hand MI epochs: (40, 16, 1665)\n",
      "Right hand MI epochs: (40, 16, 1665)\n",
      "Overwriting existing file.\n",
      "Overwriting existing file.\n",
      "Overwriting existing file.\n",
      "Overwriting existing file.\n",
      "\n",
      "\n",
      "Patient: Patient_2, Session: Post, Task: Train\n",
      "EEG data shape (channels, samples): (16, 216720)\n",
      "Trigger data shape: (216720, 1)\n",
      "Creating RawArray with float64 data, n_channels=16, n_times=216720\n",
      "    Range : 0 ... 216719 =      0.000 ...   846.559 secs\n",
      "Ready.\n"
     ]
    },
    {
     "name": "stderr",
     "output_type": "stream",
     "text": [
      "/Users/mohamed/Documents/GitHub/stroke-rehab-data-analysis/scripts/load_mne.py:89: FutureWarning: The current default of copy=False will change to copy=True in 1.7. Set the value of copy explicitly to avoid this warning\n",
      "  print(f\"Left hand MI epochs: {left_epochs.get_data().shape}\")\n",
      "/Users/mohamed/Documents/GitHub/stroke-rehab-data-analysis/scripts/load_mne.py:90: FutureWarning: The current default of copy=False will change to copy=True in 1.7. Set the value of copy explicitly to avoid this warning\n",
      "  print(f\"Right hand MI epochs: {right_epochs.get_data().shape}\")\n"
     ]
    },
    {
     "name": "stdout",
     "output_type": "stream",
     "text": [
      "Creating epochs...\n",
      "(80, 3)\n",
      "Not setting metadata\n",
      "80 matching events found\n",
      "Applying baseline correction (mode: mean)\n",
      "0 projection items activated\n",
      "Using data from preloaded Raw for 80 events and 1665 original time points ...\n",
      "0 bad epochs dropped\n",
      "Left hand MI epochs: (40, 16, 1665)\n",
      "Right hand MI epochs: (40, 16, 1665)\n",
      "Overwriting existing file.\n",
      "Overwriting existing file.\n",
      "Overwriting existing file.\n",
      "Overwriting existing file.\n",
      "\n",
      "\n",
      "Patient: Patient_2, Session: Post, Task: Test\n",
      "EEG data shape (channels, samples): (16, 233576)\n",
      "Trigger data shape: (233576, 1)\n",
      "Creating RawArray with float64 data, n_channels=16, n_times=233576\n",
      "    Range : 0 ... 233575 =      0.000 ...   912.402 secs\n",
      "Ready.\n"
     ]
    },
    {
     "name": "stderr",
     "output_type": "stream",
     "text": [
      "/Users/mohamed/Documents/GitHub/stroke-rehab-data-analysis/scripts/load_mne.py:89: FutureWarning: The current default of copy=False will change to copy=True in 1.7. Set the value of copy explicitly to avoid this warning\n",
      "  print(f\"Left hand MI epochs: {left_epochs.get_data().shape}\")\n",
      "/Users/mohamed/Documents/GitHub/stroke-rehab-data-analysis/scripts/load_mne.py:90: FutureWarning: The current default of copy=False will change to copy=True in 1.7. Set the value of copy explicitly to avoid this warning\n",
      "  print(f\"Right hand MI epochs: {right_epochs.get_data().shape}\")\n"
     ]
    },
    {
     "name": "stdout",
     "output_type": "stream",
     "text": [
      "Creating epochs...\n",
      "(80, 3)\n",
      "Not setting metadata\n",
      "80 matching events found\n",
      "Applying baseline correction (mode: mean)\n",
      "0 projection items activated\n",
      "Using data from preloaded Raw for 80 events and 1665 original time points ...\n",
      "0 bad epochs dropped\n",
      "Left hand MI epochs: (40, 16, 1665)\n",
      "Right hand MI epochs: (40, 16, 1665)\n",
      "Overwriting existing file.\n",
      "Overwriting existing file.\n",
      "Overwriting existing file.\n",
      "Overwriting existing file.\n",
      "\n",
      "\n",
      "Patient: Patient_3, Session: Pre, Task: Train\n",
      "EEG data shape (channels, samples): (16, 205536)\n",
      "Trigger data shape: (205536, 1)\n",
      "Creating RawArray with float64 data, n_channels=16, n_times=205536\n",
      "    Range : 0 ... 205535 =      0.000 ...   802.871 secs\n",
      "Ready.\n"
     ]
    },
    {
     "name": "stderr",
     "output_type": "stream",
     "text": [
      "/Users/mohamed/Documents/GitHub/stroke-rehab-data-analysis/scripts/load_mne.py:89: FutureWarning: The current default of copy=False will change to copy=True in 1.7. Set the value of copy explicitly to avoid this warning\n",
      "  print(f\"Left hand MI epochs: {left_epochs.get_data().shape}\")\n",
      "/Users/mohamed/Documents/GitHub/stroke-rehab-data-analysis/scripts/load_mne.py:90: FutureWarning: The current default of copy=False will change to copy=True in 1.7. Set the value of copy explicitly to avoid this warning\n",
      "  print(f\"Right hand MI epochs: {right_epochs.get_data().shape}\")\n"
     ]
    },
    {
     "name": "stdout",
     "output_type": "stream",
     "text": [
      "Creating epochs...\n",
      "(80, 3)\n",
      "Not setting metadata\n",
      "80 matching events found\n",
      "Applying baseline correction (mode: mean)\n",
      "0 projection items activated\n",
      "Using data from preloaded Raw for 80 events and 1665 original time points ...\n",
      "0 bad epochs dropped\n",
      "Left hand MI epochs: (40, 16, 1665)\n",
      "Right hand MI epochs: (40, 16, 1665)\n",
      "Overwriting existing file.\n",
      "Overwriting existing file.\n",
      "Overwriting existing file.\n",
      "Overwriting existing file.\n",
      "\n",
      "\n",
      "Patient: Patient_3, Session: Pre, Task: Test\n",
      "EEG data shape (channels, samples): (16, 248488)\n",
      "Trigger data shape: (248488, 1)\n",
      "Creating RawArray with float64 data, n_channels=16, n_times=248488\n",
      "    Range : 0 ... 248487 =      0.000 ...   970.652 secs\n",
      "Ready.\n"
     ]
    },
    {
     "name": "stderr",
     "output_type": "stream",
     "text": [
      "/Users/mohamed/Documents/GitHub/stroke-rehab-data-analysis/scripts/load_mne.py:89: FutureWarning: The current default of copy=False will change to copy=True in 1.7. Set the value of copy explicitly to avoid this warning\n",
      "  print(f\"Left hand MI epochs: {left_epochs.get_data().shape}\")\n",
      "/Users/mohamed/Documents/GitHub/stroke-rehab-data-analysis/scripts/load_mne.py:90: FutureWarning: The current default of copy=False will change to copy=True in 1.7. Set the value of copy explicitly to avoid this warning\n",
      "  print(f\"Right hand MI epochs: {right_epochs.get_data().shape}\")\n"
     ]
    },
    {
     "name": "stdout",
     "output_type": "stream",
     "text": [
      "Creating epochs...\n",
      "(80, 3)\n",
      "Not setting metadata\n",
      "80 matching events found\n",
      "Applying baseline correction (mode: mean)\n",
      "0 projection items activated\n",
      "Using data from preloaded Raw for 80 events and 1665 original time points ...\n",
      "0 bad epochs dropped\n",
      "Left hand MI epochs: (40, 16, 1665)\n",
      "Right hand MI epochs: (40, 16, 1665)\n",
      "Overwriting existing file.\n",
      "Overwriting existing file.\n",
      "Overwriting existing file.\n",
      "Overwriting existing file.\n",
      "\n",
      "\n",
      "Patient: Patient_3, Session: Post, Task: Train\n",
      "EEG data shape (channels, samples): (16, 206504)\n",
      "Trigger data shape: (206504, 1)\n",
      "Creating RawArray with float64 data, n_channels=16, n_times=206504\n",
      "    Range : 0 ... 206503 =      0.000 ...   806.652 secs\n",
      "Ready.\n"
     ]
    },
    {
     "name": "stderr",
     "output_type": "stream",
     "text": [
      "/Users/mohamed/Documents/GitHub/stroke-rehab-data-analysis/scripts/load_mne.py:89: FutureWarning: The current default of copy=False will change to copy=True in 1.7. Set the value of copy explicitly to avoid this warning\n",
      "  print(f\"Left hand MI epochs: {left_epochs.get_data().shape}\")\n",
      "/Users/mohamed/Documents/GitHub/stroke-rehab-data-analysis/scripts/load_mne.py:90: FutureWarning: The current default of copy=False will change to copy=True in 1.7. Set the value of copy explicitly to avoid this warning\n",
      "  print(f\"Right hand MI epochs: {right_epochs.get_data().shape}\")\n"
     ]
    },
    {
     "name": "stdout",
     "output_type": "stream",
     "text": [
      "Creating epochs...\n",
      "(80, 3)\n",
      "Not setting metadata\n",
      "80 matching events found\n",
      "Applying baseline correction (mode: mean)\n",
      "0 projection items activated\n",
      "Using data from preloaded Raw for 80 events and 1665 original time points ...\n",
      "0 bad epochs dropped\n",
      "Left hand MI epochs: (40, 16, 1665)\n",
      "Right hand MI epochs: (40, 16, 1665)\n",
      "Overwriting existing file.\n",
      "Overwriting existing file.\n",
      "Overwriting existing file.\n",
      "Overwriting existing file.\n",
      "\n",
      "\n",
      "Patient: Patient_3, Session: Post, Task: Test\n",
      "EEG data shape (channels, samples): (16, 218432)\n",
      "Trigger data shape: (218432, 1)\n",
      "Creating RawArray with float64 data, n_channels=16, n_times=218432\n",
      "    Range : 0 ... 218431 =      0.000 ...   853.246 secs\n",
      "Ready.\n"
     ]
    },
    {
     "name": "stderr",
     "output_type": "stream",
     "text": [
      "/Users/mohamed/Documents/GitHub/stroke-rehab-data-analysis/scripts/load_mne.py:89: FutureWarning: The current default of copy=False will change to copy=True in 1.7. Set the value of copy explicitly to avoid this warning\n",
      "  print(f\"Left hand MI epochs: {left_epochs.get_data().shape}\")\n",
      "/Users/mohamed/Documents/GitHub/stroke-rehab-data-analysis/scripts/load_mne.py:90: FutureWarning: The current default of copy=False will change to copy=True in 1.7. Set the value of copy explicitly to avoid this warning\n",
      "  print(f\"Right hand MI epochs: {right_epochs.get_data().shape}\")\n"
     ]
    },
    {
     "name": "stdout",
     "output_type": "stream",
     "text": [
      "Creating epochs...\n",
      "(80, 3)\n",
      "Not setting metadata\n",
      "80 matching events found\n",
      "Applying baseline correction (mode: mean)\n",
      "0 projection items activated\n",
      "Using data from preloaded Raw for 80 events and 1665 original time points ...\n",
      "0 bad epochs dropped\n",
      "Left hand MI epochs: (40, 16, 1665)\n",
      "Right hand MI epochs: (40, 16, 1665)\n",
      "Overwriting existing file.\n",
      "Overwriting existing file.\n",
      "Overwriting existing file.\n",
      "Overwriting existing file.\n",
      "\n",
      "\n"
     ]
    },
    {
     "name": "stderr",
     "output_type": "stream",
     "text": [
      "/Users/mohamed/Documents/GitHub/stroke-rehab-data-analysis/scripts/load_mne.py:89: FutureWarning: The current default of copy=False will change to copy=True in 1.7. Set the value of copy explicitly to avoid this warning\n",
      "  print(f\"Left hand MI epochs: {left_epochs.get_data().shape}\")\n",
      "/Users/mohamed/Documents/GitHub/stroke-rehab-data-analysis/scripts/load_mne.py:90: FutureWarning: The current default of copy=False will change to copy=True in 1.7. Set the value of copy explicitly to avoid this warning\n",
      "  print(f\"Right hand MI epochs: {right_epochs.get_data().shape}\")\n"
     ]
    }
   ],
   "source": [
    "import scripts.load_project as load_project\n",
    "import numpy as np\n",
    "\n",
    "data = load_project.load_project()"
   ]
  },
  {
   "cell_type": "markdown",
   "metadata": {},
   "source": [
    "# Just prepare some X_train/test y_train/test pairs to play with\n"
   ]
  },
  {
   "cell_type": "code",
   "execution_count": 2,
   "metadata": {},
   "outputs": [
    {
     "name": "stderr",
     "output_type": "stream",
     "text": [
      "/var/folders/c0/xxpj6hdj4633qbm0kh30wftc0000gn/T/ipykernel_6856/143808037.py:1: FutureWarning: The current default of copy=False will change to copy=True in 1.7. Set the value of copy explicitly to avoid this warning\n",
      "  left = data[\"Patient_1\"]['Post']['Train'][\"left\"].get_data()\n",
      "/var/folders/c0/xxpj6hdj4633qbm0kh30wftc0000gn/T/ipykernel_6856/143808037.py:2: FutureWarning: The current default of copy=False will change to copy=True in 1.7. Set the value of copy explicitly to avoid this warning\n",
      "  right = data[\"Patient_1\"]['Post']['Train'][\"right\"].get_data()\n",
      "/var/folders/c0/xxpj6hdj4633qbm0kh30wftc0000gn/T/ipykernel_6856/143808037.py:5: FutureWarning: The current default of copy=False will change to copy=True in 1.7. Set the value of copy explicitly to avoid this warning\n",
      "  left = data[\"Patient_1\"]['Post']['Test'][\"left\"].get_data()\n",
      "/var/folders/c0/xxpj6hdj4633qbm0kh30wftc0000gn/T/ipykernel_6856/143808037.py:6: FutureWarning: The current default of copy=False will change to copy=True in 1.7. Set the value of copy explicitly to avoid this warning\n",
      "  right = data[\"Patient_1\"]['Post']['Test'][\"right\"].get_data()\n"
     ]
    }
   ],
   "source": [
    "left = data[\"Patient_1\"]['Post']['Train'][\"left\"].get_data()\n",
    "right = data[\"Patient_1\"]['Post']['Train'][\"right\"].get_data()\n",
    "X_train = np.concatenate([left,right] ,axis=0)\n",
    "y_train = np.array(([0]*left.shape[0])+([1]*right.shape[0]))\n",
    "left = data[\"Patient_1\"]['Post']['Test'][\"left\"].get_data()\n",
    "right = data[\"Patient_1\"]['Post']['Test'][\"right\"].get_data()\n",
    "X_test = np.concatenate([left,right] ,axis=0)\n",
    "y_test = np.array(([0]*left.shape[0])+([1]*right.shape[0]))"
   ]
  },
  {
   "cell_type": "markdown",
   "metadata": {},
   "source": [
    "# CNN 1"
   ]
  },
  {
   "cell_type": "code",
   "execution_count": 4,
   "metadata": {},
   "outputs": [
    {
     "name": "stdout",
     "output_type": "stream",
     "text": [
      "(80, 16, 1665)\n",
      "(80, 16, 1665)\n",
      "(80,)\n",
      "(80,)\n"
     ]
    },
    {
     "name": "stderr",
     "output_type": "stream",
     "text": [
      "/Users/mohamed/Documents/GitHub/stroke-rehab-data-analysis/.venv/lib/python3.9/site-packages/keras/src/layers/convolutional/base_conv.py:107: UserWarning: Do not pass an `input_shape`/`input_dim` argument to a layer. When using Sequential models, prefer using an `Input(shape)` object as the first layer in the model instead.\n",
      "  super().__init__(activity_regularizer=activity_regularizer, **kwargs)\n"
     ]
    },
    {
     "ename": "ValueError",
     "evalue": "Input 0 of layer \"conv2d_5\" is incompatible with the layer: expected min_ndim=4, found ndim=3. Full shape received: (None, 16, 1665)",
     "output_type": "error",
     "traceback": [
      "\u001b[0;31m---------------------------------------------------------------------------\u001b[0m",
      "\u001b[0;31mValueError\u001b[0m                                Traceback (most recent call last)",
      "Cell \u001b[0;32mIn[4], line 9\u001b[0m\n\u001b[1;32m      7\u001b[0m \u001b[38;5;28mprint\u001b[39m(y_train\u001b[38;5;241m.\u001b[39mshape)\n\u001b[1;32m      8\u001b[0m \u001b[38;5;28mprint\u001b[39m(y_test\u001b[38;5;241m.\u001b[39mshape)\n\u001b[0;32m----> 9\u001b[0m cnn_trained \u001b[38;5;241m=\u001b[39m \u001b[43mcnn1\u001b[49m\u001b[38;5;241;43m.\u001b[39;49m\u001b[43mtrain\u001b[49m\u001b[43m(\u001b[49m\u001b[43mX_train\u001b[49m\u001b[43m,\u001b[49m\u001b[43my_train\u001b[49m\u001b[43m,\u001b[49m\u001b[43mX_test\u001b[49m\u001b[43m,\u001b[49m\u001b[43my_test\u001b[49m\u001b[43m)\u001b[49m\n",
      "File \u001b[0;32m~/Documents/GitHub/stroke-rehab-data-analysis/scripts/cnn1.py:26\u001b[0m, in \u001b[0;36mtrain\u001b[0;34m(X_train, y_train, X_val, y_val)\u001b[0m\n\u001b[1;32m     24\u001b[0m model_class \u001b[38;5;241m=\u001b[39m CNN_STFT\n\u001b[1;32m     25\u001b[0m model_data[\u001b[38;5;124m'\u001b[39m\u001b[38;5;124mfunction\u001b[39m\u001b[38;5;124m'\u001b[39m] \u001b[38;5;241m=\u001b[39m model_class\n\u001b[0;32m---> 26\u001b[0m model, history \u001b[38;5;241m=\u001b[39m \u001b[43mmodel_trainer\u001b[49m\u001b[38;5;241;43m.\u001b[39;49m\u001b[43mtrain_model\u001b[49m\u001b[43m(\u001b[49m\u001b[43mmodel_data\u001b[49m\u001b[38;5;241;43m=\u001b[39;49m\u001b[43mmodel_data\u001b[49m\u001b[43m)\u001b[49m\n\u001b[1;32m     27\u001b[0m \u001b[38;5;28;01mreturn\u001b[39;00m model\n",
      "File \u001b[0;32m~/Documents/GitHub/stroke-rehab-data-analysis/scripts/cnn1.py:54\u001b[0m, in \u001b[0;36mModelTrainer.train_model\u001b[0;34m(self, model_data)\u001b[0m\n\u001b[1;32m     51\u001b[0m num_class \u001b[38;5;241m=\u001b[39m \u001b[38;5;241m2\u001b[39m\n\u001b[1;32m     52\u001b[0m data_shape \u001b[38;5;241m=\u001b[39m data[\u001b[38;5;124m'\u001b[39m\u001b[38;5;124mx_train\u001b[39m\u001b[38;5;124m'\u001b[39m][\u001b[38;5;241m0\u001b[39m]\u001b[38;5;241m.\u001b[39mshape\n\u001b[0;32m---> 54\u001b[0m model \u001b[38;5;241m=\u001b[39m \u001b[43mcnn_stft_instance\u001b[49m\u001b[38;5;241;43m.\u001b[39;49m\u001b[43mcreate_model\u001b[49m\u001b[43m(\u001b[49m\n\u001b[1;32m     55\u001b[0m \u001b[43m    \u001b[49m\u001b[43mdata_shape\u001b[49m\u001b[43m,\u001b[49m\u001b[43m \u001b[49m\u001b[43mnum_class\u001b[49m\u001b[43m,\u001b[49m\u001b[43m \u001b[49m\u001b[43mdropout\u001b[49m\u001b[43m,\u001b[49m\u001b[43m \u001b[49m\u001b[43mprint_summary\u001b[49m\u001b[38;5;241;43m=\u001b[39;49m\u001b[38;5;28;43;01mTrue\u001b[39;49;00m\u001b[43m)\u001b[49m\n\u001b[1;32m     56\u001b[0m logdir \u001b[38;5;241m=\u001b[39m \u001b[38;5;124m'\u001b[39m\u001b[38;5;124mlogs\u001b[39m\u001b[38;5;124m'\u001b[39m\n\u001b[1;32m     57\u001b[0m tensorboard_callback \u001b[38;5;241m=\u001b[39m TensorBoard(log_dir\u001b[38;5;241m=\u001b[39mlogdir)\n",
      "File \u001b[0;32m~/Documents/GitHub/stroke-rehab-data-analysis/scripts/cnn1.py:97\u001b[0m, in \u001b[0;36mCNN_STFT.create_model\u001b[0;34m(self, input_shape, classes, dropout, print_summary)\u001b[0m\n\u001b[1;32m     94\u001b[0m model \u001b[38;5;241m=\u001b[39m Sequential()\n\u001b[1;32m     96\u001b[0m \u001b[38;5;66;03m# Conv Block 1\u001b[39;00m\n\u001b[0;32m---> 97\u001b[0m model\u001b[38;5;241m.\u001b[39madd(Conv2D(filters\u001b[38;5;241m=\u001b[39m\u001b[38;5;241m128\u001b[39m, kernel_size\u001b[38;5;241m=\u001b[39m(\u001b[38;5;241m3\u001b[39m, \u001b[38;5;241m3\u001b[39m),\n\u001b[1;32m     98\u001b[0m           input_shape\u001b[38;5;241m=\u001b[39minput_shape, padding\u001b[38;5;241m=\u001b[39m\u001b[38;5;124m'\u001b[39m\u001b[38;5;124msame\u001b[39m\u001b[38;5;124m'\u001b[39m))\n\u001b[1;32m     99\u001b[0m model\u001b[38;5;241m.\u001b[39madd(BatchNormalization())\n\u001b[1;32m    100\u001b[0m model\u001b[38;5;241m.\u001b[39madd(Activation(\u001b[38;5;124m'\u001b[39m\u001b[38;5;124mrelu\u001b[39m\u001b[38;5;124m'\u001b[39m))\n",
      "File \u001b[0;32m~/Documents/GitHub/stroke-rehab-data-analysis/.venv/lib/python3.9/site-packages/keras/src/models/sequential.py:120\u001b[0m, in \u001b[0;36mSequential.add\u001b[0;34m(self, layer, rebuild)\u001b[0m\n\u001b[1;32m    118\u001b[0m \u001b[38;5;28mself\u001b[39m\u001b[38;5;241m.\u001b[39m_layers\u001b[38;5;241m.\u001b[39mappend(layer)\n\u001b[1;32m    119\u001b[0m \u001b[38;5;28;01mif\u001b[39;00m rebuild:\n\u001b[0;32m--> 120\u001b[0m     \u001b[38;5;28;43mself\u001b[39;49m\u001b[38;5;241;43m.\u001b[39;49m\u001b[43m_maybe_rebuild\u001b[49m\u001b[43m(\u001b[49m\u001b[43m)\u001b[49m\n\u001b[1;32m    121\u001b[0m \u001b[38;5;28;01melse\u001b[39;00m:\n\u001b[1;32m    122\u001b[0m     \u001b[38;5;28mself\u001b[39m\u001b[38;5;241m.\u001b[39mbuilt \u001b[38;5;241m=\u001b[39m \u001b[38;5;28;01mFalse\u001b[39;00m\n",
      "File \u001b[0;32m~/Documents/GitHub/stroke-rehab-data-analysis/.venv/lib/python3.9/site-packages/keras/src/models/sequential.py:139\u001b[0m, in \u001b[0;36mSequential._maybe_rebuild\u001b[0;34m(self)\u001b[0m\n\u001b[1;32m    137\u001b[0m \u001b[38;5;28;01mif\u001b[39;00m \u001b[38;5;28misinstance\u001b[39m(\u001b[38;5;28mself\u001b[39m\u001b[38;5;241m.\u001b[39m_layers[\u001b[38;5;241m0\u001b[39m], InputLayer) \u001b[38;5;129;01mand\u001b[39;00m \u001b[38;5;28mlen\u001b[39m(\u001b[38;5;28mself\u001b[39m\u001b[38;5;241m.\u001b[39m_layers) \u001b[38;5;241m>\u001b[39m \u001b[38;5;241m1\u001b[39m:\n\u001b[1;32m    138\u001b[0m     input_shape \u001b[38;5;241m=\u001b[39m \u001b[38;5;28mself\u001b[39m\u001b[38;5;241m.\u001b[39m_layers[\u001b[38;5;241m0\u001b[39m]\u001b[38;5;241m.\u001b[39mbatch_shape\n\u001b[0;32m--> 139\u001b[0m     \u001b[38;5;28;43mself\u001b[39;49m\u001b[38;5;241;43m.\u001b[39;49m\u001b[43mbuild\u001b[49m\u001b[43m(\u001b[49m\u001b[43minput_shape\u001b[49m\u001b[43m)\u001b[49m\n",
      "File \u001b[0;32m~/Documents/GitHub/stroke-rehab-data-analysis/.venv/lib/python3.9/site-packages/keras/src/layers/layer.py:223\u001b[0m, in \u001b[0;36mLayer.__new__.<locals>.build_wrapper\u001b[0;34m(*args, **kwargs)\u001b[0m\n\u001b[1;32m    220\u001b[0m \u001b[38;5;129m@wraps\u001b[39m(original_build_method)\n\u001b[1;32m    221\u001b[0m \u001b[38;5;28;01mdef\u001b[39;00m \u001b[38;5;21mbuild_wrapper\u001b[39m(\u001b[38;5;241m*\u001b[39margs, \u001b[38;5;241m*\u001b[39m\u001b[38;5;241m*\u001b[39mkwargs):\n\u001b[1;32m    222\u001b[0m     \u001b[38;5;28;01mwith\u001b[39;00m obj\u001b[38;5;241m.\u001b[39m_open_name_scope():\n\u001b[0;32m--> 223\u001b[0m         \u001b[43moriginal_build_method\u001b[49m\u001b[43m(\u001b[49m\u001b[38;5;241;43m*\u001b[39;49m\u001b[43margs\u001b[49m\u001b[43m,\u001b[49m\u001b[43m \u001b[49m\u001b[38;5;241;43m*\u001b[39;49m\u001b[38;5;241;43m*\u001b[39;49m\u001b[43mkwargs\u001b[49m\u001b[43m)\u001b[49m\n\u001b[1;32m    224\u001b[0m     \u001b[38;5;66;03m# Record build config.\u001b[39;00m\n\u001b[1;32m    225\u001b[0m     signature \u001b[38;5;241m=\u001b[39m inspect\u001b[38;5;241m.\u001b[39msignature(original_build_method)\n",
      "File \u001b[0;32m~/Documents/GitHub/stroke-rehab-data-analysis/.venv/lib/python3.9/site-packages/keras/src/models/sequential.py:183\u001b[0m, in \u001b[0;36mSequential.build\u001b[0;34m(self, input_shape)\u001b[0m\n\u001b[1;32m    181\u001b[0m \u001b[38;5;28;01mfor\u001b[39;00m layer \u001b[38;5;129;01min\u001b[39;00m \u001b[38;5;28mself\u001b[39m\u001b[38;5;241m.\u001b[39m_layers[\u001b[38;5;241m1\u001b[39m:]:\n\u001b[1;32m    182\u001b[0m     \u001b[38;5;28;01mtry\u001b[39;00m:\n\u001b[0;32m--> 183\u001b[0m         x \u001b[38;5;241m=\u001b[39m \u001b[43mlayer\u001b[49m\u001b[43m(\u001b[49m\u001b[43mx\u001b[49m\u001b[43m)\u001b[49m\n\u001b[1;32m    184\u001b[0m     \u001b[38;5;28;01mexcept\u001b[39;00m \u001b[38;5;167;01mNotImplementedError\u001b[39;00m:\n\u001b[1;32m    185\u001b[0m         \u001b[38;5;66;03m# Can happen if shape inference is not implemented.\u001b[39;00m\n\u001b[1;32m    186\u001b[0m         \u001b[38;5;66;03m# TODO: consider reverting inbound nodes on layers processed.\u001b[39;00m\n\u001b[1;32m    187\u001b[0m         \u001b[38;5;28;01mreturn\u001b[39;00m\n",
      "File \u001b[0;32m~/Documents/GitHub/stroke-rehab-data-analysis/.venv/lib/python3.9/site-packages/keras/src/utils/traceback_utils.py:122\u001b[0m, in \u001b[0;36mfilter_traceback.<locals>.error_handler\u001b[0;34m(*args, **kwargs)\u001b[0m\n\u001b[1;32m    119\u001b[0m     filtered_tb \u001b[38;5;241m=\u001b[39m _process_traceback_frames(e\u001b[38;5;241m.\u001b[39m__traceback__)\n\u001b[1;32m    120\u001b[0m     \u001b[38;5;66;03m# To get the full stack trace, call:\u001b[39;00m\n\u001b[1;32m    121\u001b[0m     \u001b[38;5;66;03m# `keras.config.disable_traceback_filtering()`\u001b[39;00m\n\u001b[0;32m--> 122\u001b[0m     \u001b[38;5;28;01mraise\u001b[39;00m e\u001b[38;5;241m.\u001b[39mwith_traceback(filtered_tb) \u001b[38;5;28;01mfrom\u001b[39;00m \u001b[38;5;28;01mNone\u001b[39;00m\n\u001b[1;32m    123\u001b[0m \u001b[38;5;28;01mfinally\u001b[39;00m:\n\u001b[1;32m    124\u001b[0m     \u001b[38;5;28;01mdel\u001b[39;00m filtered_tb\n",
      "File \u001b[0;32m~/Documents/GitHub/stroke-rehab-data-analysis/.venv/lib/python3.9/site-packages/keras/src/layers/input_spec.py:202\u001b[0m, in \u001b[0;36massert_input_compatibility\u001b[0;34m(input_spec, inputs, layer_name)\u001b[0m\n\u001b[1;32m    200\u001b[0m \u001b[38;5;28;01mif\u001b[39;00m spec\u001b[38;5;241m.\u001b[39mmin_ndim \u001b[38;5;129;01mis\u001b[39;00m \u001b[38;5;129;01mnot\u001b[39;00m \u001b[38;5;28;01mNone\u001b[39;00m:\n\u001b[1;32m    201\u001b[0m     \u001b[38;5;28;01mif\u001b[39;00m ndim \u001b[38;5;129;01mis\u001b[39;00m \u001b[38;5;129;01mnot\u001b[39;00m \u001b[38;5;28;01mNone\u001b[39;00m \u001b[38;5;129;01mand\u001b[39;00m ndim \u001b[38;5;241m<\u001b[39m spec\u001b[38;5;241m.\u001b[39mmin_ndim:\n\u001b[0;32m--> 202\u001b[0m         \u001b[38;5;28;01mraise\u001b[39;00m \u001b[38;5;167;01mValueError\u001b[39;00m(\n\u001b[1;32m    203\u001b[0m             \u001b[38;5;124mf\u001b[39m\u001b[38;5;124m'\u001b[39m\u001b[38;5;124mInput \u001b[39m\u001b[38;5;132;01m{\u001b[39;00minput_index\u001b[38;5;132;01m}\u001b[39;00m\u001b[38;5;124m of layer \u001b[39m\u001b[38;5;124m\"\u001b[39m\u001b[38;5;132;01m{\u001b[39;00mlayer_name\u001b[38;5;132;01m}\u001b[39;00m\u001b[38;5;124m\"\u001b[39m\u001b[38;5;124m \u001b[39m\u001b[38;5;124m'\u001b[39m\n\u001b[1;32m    204\u001b[0m             \u001b[38;5;124m\"\u001b[39m\u001b[38;5;124mis incompatible with the layer: \u001b[39m\u001b[38;5;124m\"\u001b[39m\n\u001b[1;32m    205\u001b[0m             \u001b[38;5;124mf\u001b[39m\u001b[38;5;124m\"\u001b[39m\u001b[38;5;124mexpected min_ndim=\u001b[39m\u001b[38;5;132;01m{\u001b[39;00mspec\u001b[38;5;241m.\u001b[39mmin_ndim\u001b[38;5;132;01m}\u001b[39;00m\u001b[38;5;124m, \u001b[39m\u001b[38;5;124m\"\u001b[39m\n\u001b[1;32m    206\u001b[0m             \u001b[38;5;124mf\u001b[39m\u001b[38;5;124m\"\u001b[39m\u001b[38;5;124mfound ndim=\u001b[39m\u001b[38;5;132;01m{\u001b[39;00mndim\u001b[38;5;132;01m}\u001b[39;00m\u001b[38;5;124m. \u001b[39m\u001b[38;5;124m\"\u001b[39m\n\u001b[1;32m    207\u001b[0m             \u001b[38;5;124mf\u001b[39m\u001b[38;5;124m\"\u001b[39m\u001b[38;5;124mFull shape received: \u001b[39m\u001b[38;5;132;01m{\u001b[39;00mshape\u001b[38;5;132;01m}\u001b[39;00m\u001b[38;5;124m\"\u001b[39m\n\u001b[1;32m    208\u001b[0m         )\n\u001b[1;32m    209\u001b[0m \u001b[38;5;66;03m# Check dtype.\u001b[39;00m\n\u001b[1;32m    210\u001b[0m \u001b[38;5;28;01mif\u001b[39;00m spec\u001b[38;5;241m.\u001b[39mdtype \u001b[38;5;129;01mis\u001b[39;00m \u001b[38;5;129;01mnot\u001b[39;00m \u001b[38;5;28;01mNone\u001b[39;00m:\n",
      "\u001b[0;31mValueError\u001b[0m: Input 0 of layer \"conv2d_5\" is incompatible with the layer: expected min_ndim=4, found ndim=3. Full shape received: (None, 16, 1665)"
     ]
    }
   ],
   "source": [
    "import scripts.cnn1 as cnn1\n",
    "import scripts.spectro as spe\n",
    "\n",
    "# cnn_trained = cnn1.train(spe.cwt(X_train),y_train, spe.cwt(X_test), y_test)\n",
    "print(X_train.shape)\n",
    "print(X_test.shape)\n",
    "print(y_train.shape)\n",
    "print(y_test.shape)\n",
    "cnn_trained = cnn1.train(X_train,y_train,X_test,y_test)"
   ]
  },
  {
   "cell_type": "code",
   "execution_count": null,
   "metadata": {},
   "outputs": [],
   "source": [
    "# predict\n",
    "cnn1.predict(spe.cwt(X_test), y_test)"
   ]
  }
 ],
 "metadata": {
  "kernelspec": {
   "display_name": "venv",
   "language": "python",
   "name": "python3"
  },
  "language_info": {
   "codemirror_mode": {
    "name": "ipython",
    "version": 3
   },
   "file_extension": ".py",
   "mimetype": "text/x-python",
   "name": "python",
   "nbconvert_exporter": "python",
   "pygments_lexer": "ipython3",
   "version": "3.9.6"
  }
 },
 "nbformat": 4,
 "nbformat_minor": 2
}
